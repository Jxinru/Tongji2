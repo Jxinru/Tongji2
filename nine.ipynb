{
 "cells": [
  {
   "cell_type": "code",
   "execution_count": 2,
   "metadata": {},
   "outputs": [
    {
     "name": "stdout",
     "output_type": "stream",
     "text": [
      "'Response' object has no attribute 'statues_code'\n"
     ]
    }
   ],
   "source": [
    "import requests\n",
    "try:\n",
    "    response=requests.get('http://www.baidu.com')\n",
    "    print(response.statues_code)\n",
    "except Exception as e:\n",
    "    print (e)"
   ]
  },
  {
   "cell_type": "code",
   "execution_count": 3,
   "metadata": {},
   "outputs": [
    {
     "name": "stdout",
     "output_type": "stream",
     "text": [
      "1\n"
     ]
    }
   ],
   "source": [
    "url = ['http://www.17k.com/book/2801193.html','http://www.17k.com/book/2811825.html']\n",
    "file_path= 'C:/Users/jixinru/Desktop/wenjian.txt'\n",
    "header={'User-Agent':'Mozilla/5.0 (Windows NT 10.0; Win64; x64) AppleWebKit/537.36 (KHTML, like Gecko) Chrome/67.0.3396.62 Safari/537.36'}\n",
    "        \n",
    "with open(file_path,'a',encoding = 'utf-8') as f:\n",
    "    for i in range(2):\n",
    "        b = requests.get(url[i],headers=header)\n",
    "        f.write(b.text)\n",
    "    print(i)"
   ]
  }
 ],
 "metadata": {
  "kernelspec": {
   "display_name": "Python 3",
   "language": "python",
   "name": "python3"
  },
  "language_info": {
   "codemirror_mode": {
    "name": "ipython",
    "version": 3
   },
   "file_extension": ".py",
   "mimetype": "text/x-python",
   "name": "python",
   "nbconvert_exporter": "python",
   "pygments_lexer": "ipython3",
   "version": "3.6.4"
  }
 },
 "nbformat": 4,
 "nbformat_minor": 2
}
