{
 "cells": [
  {
   "cell_type": "code",
   "execution_count": 4,
   "metadata": {},
   "outputs": [
    {
     "name": "stdout",
     "output_type": "stream",
     "text": [
      "1\t5\t12\t22\t35\t51\t70\t92\t117\t145\t\n",
      "176\t210\t247\t287\t330\t376\t425\t477\t532\t590\t\n",
      "651\t715\t782\t852\t925\t1001\t1080\t1162\t1247\t1335\t\n",
      "1426\t1520\t1617\t1717\t1820\t1926\t2035\t2147\t2262\t2380\t\n",
      "2501\t2625\t2752\t2882\t3015\t3151\t3290\t3432\t3577\t3725\t\n",
      "3876\t4030\t4187\t4347\t4510\t4676\t4845\t5017\t5192\t5370\t\n",
      "5551\t5735\t5922\t6112\t6305\t6501\t6700\t6902\t7107\t7315\t\n",
      "7526\t7740\t7957\t8177\t8400\t8626\t8855\t9087\t9322\t9560\t\n",
      "9801\t10045\t10292\t10542\t10795\t11051\t11310\t11572\t11837\t12105\t\n",
      "12376\t12650\t12927\t13207\t13490\t13776\t14065\t14357\t14652\t14950\t\n"
     ]
    }
   ],
   "source": [
    "#1.一个五角数被定义为n(3n-1)/2,其中n=1、2......。\n",
    "def getPentagonalNumber(n):\n",
    "    c = int(n* (3 * n - 1) / 2)\n",
    "    print(c,end='\\t')\n",
    "    if n %10 == 0:\n",
    "        print()\n",
    "        \n",
    "for i in range(1,101):\n",
    "    getPentagonalNumber(i)"
   ]
  },
  {
   "cell_type": "markdown",
   "metadata": {},
   "source": [
    "# homework1"
   ]
  },
  {
   "cell_type": "code",
   "execution_count": 6,
   "metadata": {},
   "outputs": [
    {
     "name": "stdout",
     "output_type": "stream",
     "text": [
      "14\n"
     ]
    }
   ],
   "source": [
    "#2\n",
    "def sumDigits(n):\n",
    "#str将括号中的内容强制转换为字符串\n",
    "    str_ = str(n)\n",
    "    int_ = 0\n",
    "    for i in str_:\n",
    "        int_ += int(i)\n",
    "    print(int_)\n",
    "sumDigits(752)"
   ]
  },
  {
   "cell_type": "code",
   "execution_count": 8,
   "metadata": {},
   "outputs": [
    {
     "name": "stdout",
     "output_type": "stream",
     "text": [
      "[2, 5, 8]\n"
     ]
    }
   ],
   "source": [
    "#3.\n",
    "def displaySortedNumbers(num1,num2,num3):\n",
    "    res = [num1,num2,num3]\n",
    "    res.sort()\n",
    "    print(res)\n",
    "\n",
    "displaySortedNumbers(8,5,2)"
   ]
  },
  {
   "cell_type": "code",
   "execution_count": 9,
   "metadata": {
    "scrolled": true
   },
   "outputs": [
    {
     "name": "stdout",
     "output_type": "stream",
     "text": [
      "1 6221.6\n",
      "2 8710.240000000002\n",
      "3 12194.336000000003\n",
      "4 17072.070400000004\n",
      "5 23900.898560000005\n",
      "6 33461.25798400001\n",
      "7 46845.76117760001\n",
      "8 65584.06564864001\n",
      "9 91817.69190809602\n",
      "10 128544.76867133443\n",
      "11 179962.6761398682\n",
      "12 251947.74659581552\n",
      "13 352726.84523414174\n",
      "14 493817.5833277984\n",
      "15 691344.6166589177\n",
      "16 967882.4633224849\n",
      "17 1355035.4486514789\n",
      "18 1897049.6281120703\n",
      "19 2655869.4793568985\n",
      "20 3718217.2710996578\n",
      "21 5205504.179539521\n",
      "22 7287705.85135533\n",
      "23 10202788.191897463\n",
      "24 14283903.468656449\n",
      "25 19997464.85611903\n",
      "26 27996450.79856664\n",
      "27 39195031.117993295\n",
      "28 54873043.56519061\n",
      "29 76822260.99126686\n",
      "30 107551165.3877736\n",
      "31 150571631.54288304\n",
      "32 210800284.16003627\n",
      "33 295120397.8240508\n",
      "34 413168556.9536711\n",
      "35 578435979.7351396\n",
      "36 809810371.6291955\n",
      "37 1133734520.2808738\n",
      "38 1587228328.3932233\n",
      "39 2222119659.7505126\n",
      "40 3110967523.6507177\n",
      "41 4355354533.111005\n",
      "42 6097496346.355407\n",
      "43 8536494884.89757\n",
      "44 11951092838.856598\n"
     ]
    }
   ],
   "source": [
    "#4.\n",
    "def futureInvestmentValue(investmentAmount,monthlyInterestRate,years):\n",
    "        years = 0\n",
    "        for i in range(0,44):\n",
    "            years = i + 1\n",
    "            futurevalue = investmentAmount+investmentAmount*monthlyInterestRate\n",
    "            print(years,futurevalue)\n",
    "            investmentAmount = futurevalue\n",
    "futureInvestmentValue(4444,0.4,44)"
   ]
  },
  {
   "cell_type": "code",
   "execution_count": 12,
   "metadata": {},
   "outputs": [
    {
     "name": "stdout",
     "output_type": "stream",
     "text": [
      "1 2 3 4 5 6 7 8 9 :\n",
      "; < = > ? @ A B C D\n",
      "E F G H I J K L M N\n",
      "O P Q R S T U V W X\n",
      "Y Z [ \\ ] ^ _ ` a b\n",
      "c d e f g h i j k l\n",
      "m n o p q r s t u v\n",
      "w x y z "
     ]
    }
   ],
   "source": [
    "#5.\n",
    "def printChars(ch1,ch2,num):\n",
    "    ch1 = ord(ch1)\n",
    "    ch2 = ord(ch2) + 1\n",
    "    #ord() 返回的是对应的十进制整数\n",
    "    n = 0\n",
    "    for i in range(ch1,ch2):\n",
    "        n = n + 1\n",
    "        if n % num != 0:\n",
    "            print(chr(i),end=' ')\n",
    "        else:\n",
    "            print(chr(i))\n",
    "            \n",
    "printChars('1','z',10)\n",
    "        \n",
    "    "
   ]
  },
  {
   "cell_type": "code",
   "execution_count": 14,
   "metadata": {},
   "outputs": [
    {
     "name": "stdout",
     "output_type": "stream",
     "text": [
      "2010年有365天\n",
      "2011年有365天\n",
      "2012年有366天\n",
      "2013年有365天\n",
      "2014年有365天\n",
      "2015年有365天\n",
      "2016年有366天\n",
      "2017年有365天\n",
      "2018年有365天\n",
      "2019年有365天\n",
      "2020年有366天\n"
     ]
    }
   ],
   "source": [
    "#6.(一年的天数)\n",
    "def number(years):\n",
    "    a = 365\n",
    "    for i in range(2010,2021,1):\n",
    "        year = i\n",
    "        if year % 4 == 0 and year % 100 != 0 or year % 400 == 0:\n",
    "            print('%d年有%d天'%(i,a+1))\n",
    "        else:\n",
    "            print('%d年有%d天'%(i,a))\n",
    "number()"
   ]
  },
  {
   "cell_type": "code",
   "execution_count": 19,
   "metadata": {},
   "outputs": [
    {
     "name": "stdout",
     "output_type": "stream",
     "text": [
      "两点间距离为： 2.23606797749979\n"
     ]
    }
   ],
   "source": [
    "#7两点距离\n",
    "import math\n",
    "def distance(x1,y1,x2,y2):\n",
    "    a = (x1 - x2)**2\n",
    "    b = (y1 - y2)**2\n",
    "    c = a + b\n",
    "    dis = math.sqrt(c)\n",
    "    print(\"两点间距离为：\",dis)\n",
    "    \n",
    "distance(4,2,3,4)\n",
    "    "
   ]
  },
  {
   "cell_type": "code",
   "execution_count": 22,
   "metadata": {},
   "outputs": [
    {
     "name": "stdout",
     "output_type": "stream",
     "text": [
      "1565518727.7881045\n",
      "本地时间为： Sun Aug 11 18:18:47 2019\n"
     ]
    }
   ],
   "source": [
    "#9显示秒数\n",
    "import time\n",
    "#asctime是把时间换成ascii码。\n",
    "#ctime是把时间转换成字符串。\n",
    "localtime = time.asctime(time.localtime(time.time()))\n",
    "print(time.time())\n",
    "print(\"本地时间为：\",localtime)"
   ]
  },
  {
   "cell_type": "code",
   "execution_count": 27,
   "metadata": {},
   "outputs": [
    {
     "name": "stdout",
     "output_type": "stream",
     "text": [
      "you rolled:5 + 4 = 9\n",
      "you rolled:6 + 3 = 9 you win\n"
     ]
    }
   ],
   "source": [
    "#10掷色子\n",
    "import random\n",
    "def shaizi():\n",
    "    a = random.choice([1,2,3,4,5,6])\n",
    "    b = random.choice([1,2,3,4,5,6])\n",
    "    if a + b == 2 or a + b == 3 or a + b == 12:\n",
    "        print(\"you rolled:%d + %d = %d\"%(a,b,a+b),\"you win\")\n",
    "    elif a + b ==7 or a + b ==11:\n",
    "        print(\"you rolled:%d + %d = %d\"%(a,b,a+b),\"you lose\")\n",
    "    else:\n",
    "        print(\"you rolled:%d + %d = %d\"%(a,b,a+b))\n",
    "        c = random.choice([1,2,3,4,5,6])\n",
    "        d = random.choice([1,2,3,4,5,6])\n",
    "        if c + d == a + b:\n",
    "            print(\"you rolled:%d + %d = %d\"%(c,d,c+d),\"you win\") \n",
    "        elif c + d == 7:\n",
    "            print(\"you rolled:%d + %d = %d\"%(c,d,c+d),\"you lose\")\n",
    "            \n",
    "shaizi()\n",
    "        \n"
   ]
  },
  {
   "cell_type": "code",
   "execution_count": null,
   "metadata": {},
   "outputs": [],
   "source": []
  }
 ],
 "metadata": {
  "kernelspec": {
   "display_name": "Python 3",
   "language": "python",
   "name": "python3"
  },
  "language_info": {
   "codemirror_mode": {
    "name": "ipython",
    "version": 3
   },
   "file_extension": ".py",
   "mimetype": "text/x-python",
   "name": "python",
   "nbconvert_exporter": "python",
   "pygments_lexer": "ipython3",
   "version": "3.6.4"
  }
 },
 "nbformat": 4,
 "nbformat_minor": 2
}
