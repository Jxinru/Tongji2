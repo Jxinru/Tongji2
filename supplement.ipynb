{
 "cells": [
  {
   "cell_type": "code",
   "execution_count": 4,
   "metadata": {},
   "outputs": [
    {
     "name": "stdout",
     "output_type": "stream",
     "text": [
      "p 2^p-1\n",
      "2  3\n",
      "3  7\n",
      "5  31\n"
     ]
    }
   ],
   "source": [
    "#8\n",
    "import math\n",
    "def prime():\n",
    "    num = []\n",
    "    i = 2\n",
    "    for i in range(2,32):\n",
    "        j = 2\n",
    "        for j in range(2,i):\n",
    "            if(i%j==0):\n",
    "                break\n",
    "        else:\n",
    "            num.append(i)\n",
    "    return num\n",
    "\n",
    "def shu():\n",
    "    print(\"p 2^p-1\")\n",
    "    a = prime()\n",
    "    for p in range(1,32):\n",
    "        for i in range(11):\n",
    "            if (2**p)-1==a[i]:\n",
    "                print(\"%d  %d\" %(p,a[i]))\n",
    "                \n",
    "shu()"
   ]
  },
  {
   "cell_type": "code",
   "execution_count": 13,
   "metadata": {},
   "outputs": [
    {
     "name": "stdout",
     "output_type": "stream",
     "text": [
      "a的值是：8\n",
      "b的值是：5\n",
      "c的值是：6\n",
      "d的值是：4\n",
      "e的值是：8\n",
      "f的值是：9\n",
      "X的值为：9.50\n",
      "Y的值为：48.00\n"
     ]
    }
   ],
   "source": [
    "#5\n",
    "class LinearEquation(object):\n",
    "    def __init__(self,a,b,c,d,e,f):\n",
    "        self._a=a\n",
    "        self._b=b\n",
    "        self._c=c\n",
    "        self._d=d\n",
    "        self._e=e\n",
    "        self._f=f\n",
    "    def set_a(self,a):\n",
    "        self._a=a\n",
    "    def get_a(self):\n",
    "        return self._a\n",
    "    def set_b(self,b):\n",
    "        self._b=b\n",
    "    def get_b(self):\n",
    "        return self._b\n",
    "    def set_c(self,c):\n",
    "        self._c=c\n",
    "    def get_c(self):\n",
    "        return self._c\n",
    "    def set_d(self,d):\n",
    "        self._d=d\n",
    "    def get_d(self):\n",
    "        return self._d\n",
    "    def set_e(self,e):\n",
    "        self._e=e\n",
    "    def get_e(self):\n",
    "        return self._e\n",
    "    def set_f(self,f):\n",
    "        self._f=f\n",
    "    def get_f(self):\n",
    "        return self._f\n",
    "    \n",
    "    def isSolvable(self):\n",
    "        if (self._a*self._d)-(self._c*self._b)!=0:\n",
    "            return True\n",
    "        else:\n",
    "            return print(\"此方程无解\")\n",
    "        \n",
    "    def getX(self):\n",
    "        s=(self._a*self._d)-(self._b*self._c)\n",
    "        x=(self._e*self._d)-(self._b*self._f)/s\n",
    "        print(\"X的值为：%.2f\"%x)\n",
    "    def getY(self):\n",
    "        s=(self._a*self._d)-(self._b*self._c)\n",
    "        y=(self._a*self._f)-(self._e*self._c)/s\n",
    "        print(\"Y的值为：%.2f\"%y)\n",
    "        \n",
    "if __name__==\"__main__\":\n",
    "    a = int(input(\"a的值是：\"))\n",
    "    b = int(input(\"b的值是：\"))\n",
    "    c = int(input(\"c的值是：\"))\n",
    "    d = int(input(\"d的值是：\"))\n",
    "    e = int(input(\"e的值是：\"))\n",
    "    f = int(input(\"f的值是：\"))\n",
    "    lai = LinearEquation(a,b,c,d,e,f)\n",
    "    lai.isSolvable()\n",
    "    lai.getX()\n",
    "    lai.getY()"
   ]
  },
  {
   "cell_type": "code",
   "execution_count": 12,
   "metadata": {},
   "outputs": [
    {
     "name": "stdout",
     "output_type": "stream",
     "text": [
      "4 5 8 7 \n",
      "5 2 4 4\n",
      "4.333333333333333 1.0\n"
     ]
    }
   ],
   "source": [
    "#6\n",
    "class jiaodian(object):\n",
    "    def jiao(self):\n",
    "        import math\n",
    "        x1,y1,x2,y2=map(float,input().split())\n",
    "        x3,y3,x4,y4=map(float,input().split())\n",
    "        j1 = (x4-x3)*(y1-y3)-(x1-x3)*(y4-y3)\n",
    "        j2 = (x4-x3)*(y2-y3)-(x2-x3)*(y4-y3)\n",
    "        j1 = math.fabs(j1)\n",
    "        j2 = math.fabs(j2)\n",
    "        \n",
    "        x5 = (x1*j2+x2*j1)/(j1+j2)\n",
    "        y5 = (y1*j1+y2*j1)/(j1+j2)\n",
    "        print(x5,y5)\n",
    "        \n",
    "r = jiaodian()\n",
    "r.jiao()"
   ]
  },
  {
   "cell_type": "code",
   "execution_count": null,
   "metadata": {},
   "outputs": [],
   "source": []
  }
 ],
 "metadata": {
  "kernelspec": {
   "display_name": "Python 3",
   "language": "python",
   "name": "python3"
  },
  "language_info": {
   "codemirror_mode": {
    "name": "ipython",
    "version": 3
   },
   "file_extension": ".py",
   "mimetype": "text/x-python",
   "name": "python",
   "nbconvert_exporter": "python",
   "pygments_lexer": "ipython3",
   "version": "3.6.4"
  }
 },
 "nbformat": 4,
 "nbformat_minor": 2
}
