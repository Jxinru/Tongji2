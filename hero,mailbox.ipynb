{
 "cells": [
  {
   "cell_type": "code",
   "execution_count": 7,
   "metadata": {},
   "outputs": [
    {
     "name": "stdout",
     "output_type": "stream",
     "text": [
      "多人\n",
      "输入\n",
      "\n",
      "请选择英雄：典韦，赵云，鲁班\n",
      ">>赵云\n",
      "赵云：战斗力-3455，防御力-4788\n",
      "鲁班\n",
      "是否开始游戏？\n",
      ">>yes\n",
      "yes\n",
      "正在加载中\n"
     ]
    }
   ],
   "source": [
    "#王者荣耀\n",
    "class hero(object):\n",
    "    def __init__(self,mode):\n",
    "        self.mode=mode\n",
    "    def check1(self):\n",
    "        if self.mode == 0:\n",
    "            print(\"人机\")\n",
    "        elif self.mode == 1:\n",
    "            print(\"多人\")\n",
    "        else:\n",
    "            print(\"对战\")\n",
    "    def check2(self):\n",
    "        res=input(\"输入\")\n",
    "        print(res)\n",
    "    def check3(self):\n",
    "        print(\"请选择英雄：典韦，赵云，鲁班\")\n",
    "        self.mode=input(\">>\")\n",
    "    def check4(self):\n",
    "        if self.mode==\"典韦\":\n",
    "            print(\"典韦：战斗力-2899，防御力-3444\")\n",
    "        elif self.mode==\"赵云\":\n",
    "            print(\"赵云：战斗力-3455，防御力-4788\")\n",
    "        elif self.mode==\"鲁班\":\n",
    "            print(\"鲁班：战斗力-3232，防御力-3277\")\n",
    "    def check5(self):\n",
    "        import numpy as np\n",
    "        res=np.random.choice([\"典韦\",\"赵云\",\"鲁班\"])\n",
    "        print(res)\n",
    "    def check6(self):\n",
    "        print(\"是否开始游戏？\")\n",
    "        self.mode=input(\">>\")\n",
    "        print(self.mode)\n",
    "        if self.mode==\"yes\":\n",
    "            print(\"正在加载中\")\n",
    "        else:\n",
    "            print(\"正在退出\")\n",
    "name=hero(1)\n",
    "name.check1()\n",
    "name.check2()\n",
    "name.check3()\n",
    "name.check4()\n",
    "name.check5()\n",
    "name.check6()"
   ]
  },
  {
   "cell_type": "markdown",
   "metadata": {},
   "source": [
    "### 王者荣耀"
   ]
  },
  {
   "cell_type": "code",
   "execution_count": 1,
   "metadata": {},
   "outputs": [
    {
     "name": "stdout",
     "output_type": "stream",
     "text": [
      "网易邮箱注册\n",
      "输入邮箱地址123\n",
      "您输入的邮箱是：123\n",
      "设置密码123123\n",
      "确认密码123123\n",
      "设置成功\n",
      "验证码是：2536\n",
      "输入验证码2536\n",
      "验证成功\n",
      "输入手机号12212124444\n",
      "您输入的手机号是：12212124444\n",
      "注册成功\n"
     ]
    }
   ],
   "source": [
    "import random\n",
    "class mailbox(object):\n",
    "    def __init__(self):\n",
    "        print(\"网易邮箱注册\")\n",
    "    def name(self):\n",
    "        res = input(\"输入邮箱地址\")\n",
    "        print(\"您输入的邮箱是：%s\" % res)\n",
    "        self.password()\n",
    "    def password(self):\n",
    "        for i in range(4):\n",
    "            self.one = input(\"设置密码\")\n",
    "            self.two = input(\"确认密码\")\n",
    "            if self.one == self.two:\n",
    "                print(\"设置成功\")\n",
    "                self.yanzhengma()\n",
    "                break\n",
    "            else:\n",
    "                print(\"两次密码不一致\")\n",
    "        else:\n",
    "            print('您可能是个机器人，再见')\n",
    "    def yanzhengma(self):\n",
    "        for i in range(3):\n",
    "            self.b = random.randrange(1000,9999)\n",
    "            print(\"验证码是：%d\"%self.b)\n",
    "            self.checking = int(input(\"输入验证码\"))\n",
    "            if self.b == self.checking:\n",
    "                print(\"验证成功\")\n",
    "                self.tele()\n",
    "                break\n",
    "            else:\n",
    "                print(\"验证失败\")\n",
    "        else:\n",
    "            print(\"机器人，再见\")\n",
    "    def tele(self):\n",
    "        tele = input(\"输入手机号\")\n",
    "        print(\"您输入的手机号是：%s\"%tele)\n",
    "    #message部分未补全\n",
    "    def message(self):\n",
    "        pass\n",
    "    def success(self):\n",
    "        print(\"注册成功\")\n",
    "        \n",
    "    \n",
    "mailbox=mailbox()\n",
    "mailbox.name()\n",
    "mailbox.success()"
   ]
  },
  {
   "cell_type": "markdown",
   "metadata": {},
   "source": [
    "### 注册邮箱"
   ]
  }
 ],
 "metadata": {
  "kernelspec": {
   "display_name": "Python 3",
   "language": "python",
   "name": "python3"
  },
  "language_info": {
   "codemirror_mode": {
    "name": "ipython",
    "version": 3
   },
   "file_extension": ".py",
   "mimetype": "text/x-python",
   "name": "python",
   "nbconvert_exporter": "python",
   "pygments_lexer": "ipython3",
   "version": "3.6.4"
  }
 },
 "nbformat": 4,
 "nbformat_minor": 2
}
