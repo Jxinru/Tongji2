{
 "cells": [
  {
   "cell_type": "markdown",
   "metadata": {},
   "source": [
    "# homework2"
   ]
  },
  {
   "cell_type": "code",
   "execution_count": 3,
   "metadata": {},
   "outputs": [
    {
     "name": "stdout",
     "output_type": "stream",
     "text": [
      "宽是：4.00,高是：8.00\n",
      "输入宽：4\n",
      "输入高：11\n",
      "area is:32.00\n",
      "perimeter is:24.00\n"
     ]
    }
   ],
   "source": [
    "#1rectangle类\n",
    "import math\n",
    "class rectangle(object):\n",
    "    def __init__(self,w,h):\n",
    "        self.w = w\n",
    "        self.h = h\n",
    "        print(\"宽是：%.2f,高是：%.2f\"%(w,h))\n",
    "    def getArea(self):\n",
    "        return self.w * self.h\n",
    "    def getPerimeter(self):\n",
    "        return 2*(self.w+self.h)\n",
    "    \n",
    "if __name__ == \"__main__\":\n",
    "    r = rectangle(w,h)\n",
    "    w = float(input(\"输入宽：\"))\n",
    "    h = float(input(\"输入高：\"))\n",
    "    print(\"area is:%.2f\"%r.getArea())\n",
    "    print(\"perimeter is:%.2f\"%r.getPerimeter())\n"
   ]
  },
  {
   "cell_type": "code",
   "execution_count": 21,
   "metadata": {},
   "outputs": [
    {
     "name": "stdout",
     "output_type": "stream",
     "text": [
      "请输入ID：1122\n",
      "请输入本金：20000\n",
      "请输入年利率：4.5\n",
      "ID是1122:\n",
      "金额是20000:\n"
     ]
    }
   ],
   "source": [
    "#2account类\n",
    "class account(object):\n",
    "    def __init__(self,i,ban,air):\n",
    "        self.__i = i\n",
    "        self.__ban = float(ban)\n",
    "        self.__air = float(air)\n",
    "    def getMonthlyInterestRate(self):\n",
    "        self.f = float(self.__air/1200)\n",
    "        return(\"月利率是：%.2f:\"%self.f)\n",
    "    def getMonthlyInterest(self):\n",
    "        gmi = float(self.f*self.__ban)\n",
    "        return(\"月利息是:%.2f:\"%gmi)\n",
    "    def withdraw(self,td):\n",
    "        self.td = td\n",
    "        pass\n",
    "    def deposit(self,cun):\n",
    "        self.cun = cun\n",
    "        pass\n",
    "    \n",
    "if __name__ == \"__main__\":\n",
    "    i = int(input(\"请输入ID：\"))\n",
    "    ban = float(input(\"请输入本金：\"))\n",
    "    air = float(input(\"请输入年利率：\"))\n",
    "    dd = account(i,ban,air)\n",
    "    print(\"ID是%d:\"%dd._account__i)\n",
    "    print(\"金额是%d:\"%dd._account__ban)\n",
    "    dd.getMonthlyInterestRate()\n",
    "    dd.getMonthlyInterest()\n",
    "        \n",
    "        "
   ]
  },
  {
   "cell_type": "code",
   "execution_count": 39,
   "metadata": {},
   "outputs": [
    {
     "name": "stdout",
     "output_type": "stream",
     "text": [
      "选择速度：3\n",
      "打开或关闭on\n",
      "输入半径：10\n",
      "颜色：yellow\n",
      "10.0\n",
      "yellow\n",
      "3\n",
      "关闭\n",
      "True\n"
     ]
    }
   ],
   "source": [
    "#3fan类\n",
    "class fan(object):\n",
    "    def __init__(self,speed=1,on=False,radius=5,color='blue'):\n",
    "        self.slow = 1\n",
    "        self.medium = 2\n",
    "        self.fast = 3\n",
    "        self._speed = int(speed)\n",
    "        self._on = bool(on)\n",
    "        self._radius = float(radius)\n",
    "        self._color = str(color)\n",
    "        print(self._radius)\n",
    "        print(self._color)\n",
    "    \n",
    "    def shuchu(self):\n",
    "        if self._speed==1:\n",
    "            print(\"slow\")\n",
    "        elif self._speed==2:\n",
    "            print(\"medium\")\n",
    "        elif self._on==3:\n",
    "            print(\"fast\")\n",
    "        print(self._speed)\n",
    "            \n",
    "    def shuchu2(self):\n",
    "        if self._on=='on':\n",
    "            print(\"打开\")\n",
    "        else:\n",
    "            print(\"关闭\")\n",
    "        print(self._on)\n",
    "        \n",
    "        @property\n",
    "        def speed(self):\n",
    "            return self._speed\n",
    "        @property\n",
    "        def on(self):\n",
    "            return self._on\n",
    "        @property\n",
    "        def radius(self):\n",
    "            return self._radius\n",
    "        @property\n",
    "        def color(self):\n",
    "            return self._color\n",
    "        \n",
    "        @speed.setter\n",
    "        def speed(self,speed):\n",
    "            self._speed = speed\n",
    "        @on.setter\n",
    "        def on(self,on):\n",
    "            self._on = on\n",
    "        @radius.setter\n",
    "        def radius(self,radius):\n",
    "            self._radius = radius\n",
    "        @color.setter\n",
    "        def color(self,color):\n",
    "            self._color = color\n",
    "        \n",
    "\n",
    "if __name__==\"__main__\":\n",
    "    speed=int(input(\"选择速度：\"))\n",
    "    on=bool(input(\"打开或关闭\"))\n",
    "    radius=float(input(\"输入半径：\"))\n",
    "    color=str(input(\"颜色：\"))\n",
    "    fan_=fan(speed,on,radius,color)\n",
    "    fan_.shuchu()\n",
    "    fan_.shuchu2()"
   ]
  },
  {
   "cell_type": "code",
   "execution_count": 43,
   "metadata": {},
   "outputs": [
    {
     "name": "stdout",
     "output_type": "stream",
     "text": [
      "请输入边数：4\n",
      "请输入边长：8\n",
      "请输入x轴坐标：5\n",
      "请输入y轴坐标：6\n",
      "周长是：32.00\n",
      "面积是：64.00\n"
     ]
    }
   ],
   "source": [
    "#4.几何:正n边形\n",
    "import math\n",
    "class rp(object):\n",
    "    def __init__(self,n=3,side=1,x=0,y=0):\n",
    "        self._n=int(n)\n",
    "        self._side=float(side)\n",
    "        self._x=float(x)\n",
    "        self._y=float(y)\n",
    "    def getPerimeter(self):\n",
    "        print(\"周长是：%.2f\"%(self._n*self._side))\n",
    "    def getArea(self):\n",
    "        self.s=self._n*(self._side**2)/4*math.tan(math.pi/self._n)\n",
    "        print(\"面积是：%.2f\"%self.s)\n",
    "        \n",
    "        \n",
    "    @property\n",
    "    def n(self):\n",
    "        return self._n\n",
    "    @property\n",
    "    def side(self):\n",
    "        return self._side\n",
    "    @property\n",
    "    def x(self):\n",
    "        return self._x\n",
    "    @property\n",
    "    def y(self):\n",
    "        return self._y\n",
    "        \n",
    "    @n.setter\n",
    "    def n(self,n):\n",
    "        self._n = n\n",
    "    @side.setter\n",
    "    def side(self,side):\n",
    "        self._side = side\n",
    "    @x.setter\n",
    "    def x(self,x):\n",
    "        self._x = x\n",
    "    @y.setter\n",
    "    def y(self,y):\n",
    "        self._y = y\n",
    "        \n",
    "if __name__ == \"__main__\":\n",
    "    n = int(input(\"请输入边数：\"))\n",
    "    side = float(input(\"请输入边长：\"))\n",
    "    x = float(input(\"请输入x轴坐标：\"))\n",
    "    y = float(input(\"请输入y轴坐标：\"))\n",
    "    r = rp(n,side,x,y)\n",
    "    r.getPerimeter()\n",
    "    r.getArea()"
   ]
  },
  {
   "cell_type": "code",
   "execution_count": null,
   "metadata": {},
   "outputs": [],
   "source": [
    "#6几何：交叉线\n",
    "\n"
   ]
  }
 ],
 "metadata": {
  "kernelspec": {
   "display_name": "Python 3",
   "language": "python",
   "name": "python3"
  },
  "language_info": {
   "codemirror_mode": {
    "name": "ipython",
    "version": 3
   },
   "file_extension": ".py",
   "mimetype": "text/x-python",
   "name": "python",
   "nbconvert_exporter": "python",
   "pygments_lexer": "ipython3",
   "version": "3.6.4"
  }
 },
 "nbformat": 4,
 "nbformat_minor": 2
}
